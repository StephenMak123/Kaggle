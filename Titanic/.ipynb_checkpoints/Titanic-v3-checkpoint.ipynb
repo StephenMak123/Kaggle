{
 "cells": [
  {
   "cell_type": "markdown",
   "metadata": {
    "_uuid": "940e9018f48becd6498f48bf0d8a2201d8e83931"
   },
   "source": [
    "**Titanic: Machine Learning from Disaster**\n",
    "\n",
    "**By Stephen Mak**\n",
    "\n",
    "The Titanic's maiden voyage was on April 15th, 1912, which killed 1502 out of 2224 (67.5%) of the onboard passengers. The intent of this competition is to determine which passengers were likely to survive using various machine learning tools.\n",
    "\n",
    "The exam question is to **predict if a passenger survived the sinking of the Titanic or not**.\n",
    "\n",
    "The metric used to evaluate the model will simply be Rand accuracy. This is simply defined as the sum of True Positives (TP) and True Negatives (TN) divided by the number of examples.\n",
    "\n",
    "The most crude model would predict everyone to have not survived, regardless of other features. This crude model would achieve an accuracy of 67.5%, and thus this will be the baseline accuracy."
   ]
  },
  {
   "cell_type": "markdown",
   "metadata": {
    "_uuid": "97ed78075ec8d36702d373e61e646c32354097b2"
   },
   "source": [
    "Features available\n",
    "The response variable will be \"Survival\" which is a binary yes/no (1 or 0).\n",
    "\n",
    "Various features are available including:\n",
    "\n",
    "*  **\"PassengerId\"** - Unique passenger ID - Categorical\n",
    "    * Ranges from 1 to 891. Test data from 892 to 1309\n",
    "\n",
    "* **\"pclass\"**, - Ticket Class - Categorical (1 = 1st Class, 2 = 2nd Class, 3 = 3rd Class)\n",
    "    * This could be an important feature as the number of lifeboats available to each ticket class may have varied.\n",
    "\n",
    "*  **\"Sex\"** - Gender - (Probably) Binary, Categorical variable containing 2 classes, male or female\n",
    "    * This could be an important feature as it is believed that females and children were advised to leave the boat first.\n",
    "\n",
    "* **\"Age\"** - Passenger's age in years - Categorical / Continuous (can decide later)\n",
    "    * Note that if the age has been estimated, it will finish in \"xx.5\". Therefore, there is potential for feature engineering to create an \"estimated age yes/no\" feature. Note also if the age is less than 1 it is fractional.\n",
    "\n",
    "*  **\"sibsp\"** - Number of siblings/spouses onboard - Categorical\n",
    "    * defined as brother/sister/stepbrother/stepsister/husband/wife.\n",
    "\n",
    "*  **\"parch\"** - Number of parents/children onboard -Categorical\n",
    "    * defined as mother/father/daughter/son/stepdaughter/stepson.\n",
    "\n",
    "*  **\"ticket\"** - Ticket Number - Categorical / Continuous (can decide later)\n",
    "    * Has a weird structure. Need to understand\n",
    "\n",
    "*  **\"fare\"** - Passenger Fare - Continuous\n",
    "    * Range from XXXX to XXXX\n",
    "\n",
    "*  **\"cabin\"** - Cabin Number - Categorical\n",
    "    * Need to understand structure\n",
    "\n",
    "*  **\"embarked\"** - Port of Embarkation - Categorical\n",
    "    * C = Cherbourg (France), Q = Queenstown (now Cobh, Ireland), S = Southampton (UK)\n",
    "\n"
   ]
  },
  {
   "cell_type": "markdown",
   "metadata": {
    "_uuid": "7d5603196f7f211a4af00368136efe3fe7d4e9da"
   },
   "source": [
    "**Interesting sidenotes**\n",
    "\n",
    "* Titanic only had enough lifeboats for 1178 people due to outdated maritime safety regulations.\n",
    "\n",
    "* Women and children were evacuated first, therefore, it is suspected that this will be crucial for the model.\n",
    "\n",
    "* RMS Carpathia arrived 2 hours later to save approximately 705 people."
   ]
  },
  {
   "cell_type": "code",
   "execution_count": 268,
   "metadata": {
    "_uuid": "82a5c939189825c7b3a68631fe6bbdf58bc388cb",
    "collapsed": true
   },
   "outputs": [],
   "source": [
    "import os\n",
    "import pandas as pd\n",
    "import matplotlib.pyplot as plt\n",
    "import numpy as np\n",
    "import seaborn as sns\n",
    "\n",
    "from sklearn.model_selection import train_test_split, cross_val_score, GridSearchCV, RandomizedSearchCV\n",
    "from sklearn.linear_model import LogisticRegression\n",
    "from sklearn.metrics import classification_report, confusion_matrix, roc_curve, roc_auc_score\n",
    "from sklearn.preprocessing import scale, StandardScaler, Imputer\n",
    "from sklearn.pipeline import Pipeline\n",
    "\n",
    "from pathlib import Path\n",
    "\n",
    "PATH = Path('/Users/Stephen/Desktop/Documents/A Learning Journey/Kaggle/Titanic')\n",
    "TRAIN = PATH/'train/train.csv'\n",
    "TEST = PATH/'test/test.csv'\n",
    "\n",
    "pd.options.display.max_columns = 20"
   ]
  },
  {
   "cell_type": "markdown",
   "metadata": {
    "_uuid": "69407bfa57748b0863e3c45421fa447ce770f9b0"
   },
   "source": [
    "First, let's read in the data and explore the dataset to better understand the data and what features could be useful for our model."
   ]
  },
  {
   "cell_type": "code",
   "execution_count": 269,
   "metadata": {},
   "outputs": [],
   "source": [
    "def convert_categorical(df, feature):\n",
    "    df[feature] = df[feature].astype('category').cat.as_ordered()\n",
    "    return df[feature]"
   ]
  },
  {
   "cell_type": "code",
   "execution_count": 270,
   "metadata": {
    "collapsed": true
   },
   "outputs": [],
   "source": [
    "def fill_median(df, feature):\n",
    "    ''' Returns a dataframe with all NaNs filled with the median value, as a float'''\n",
    "    df[feature] = df[feature].fillna(df[feature].median()).astype('float32')\n",
    "    return df[feature]"
   ]
  },
  {
   "cell_type": "code",
   "execution_count": 272,
   "metadata": {
    "_uuid": "69a7fcc16dfbdbc0f16315471a2aec827effc06e"
   },
   "outputs": [],
   "source": [
    "columns = ['ID', 'Survived', 'Class', 'Name', 'Sex', 'Age', 'SibSp', 'ParCh', 'TicketNo', 'Price', 'CabinNo', 'EmbarkCity']\n",
    "columns_test = ['ID', 'Class', 'Name', 'Sex', 'Age', 'SibSp', 'ParCh', 'TicketNo', 'Price', 'CabinNo', 'EmbarkCity']\n",
    "\n",
    "data = pd.read_csv(TRAIN, names = columns, header=0)\n",
    "data_test = pd.read_csv(TEST, names = columns_test, header=0)   \n",
    "\n",
    "cat_features = ['ID',  'Name', 'Sex', 'SibSp', 'ParCh', 'TicketNo', 'CabinNo', 'EmbarkCity']\n",
    "cont_features = ['Age', 'Price']\n",
    "pred_feature = ['Survived']\n",
    "\n",
    "for feature in cat_features:\n",
    "    data[feature] = convert_categorical(data, feature)\n",
    "    data_test[feature] = convert_categorical(data_test, feature)\n",
    "    \n",
    "data['Age'] = fill_median(data, 'Age')\n",
    "data_test['Age'] = fill_median(data_test, 'Age')\n",
    "\n",
    "data['Price'] = data['Price'].astype('float32')\n",
    "data_test['Price'] = data_test['Price'].astype('float32')"
   ]
  },
  {
   "cell_type": "markdown",
   "metadata": {},
   "source": [
    "# Histogram of Ticket Class\n",
    "There are more first class tickets than second class tickets. Howeer, majority of people are third class."
   ]
  },
  {
   "cell_type": "code",
   "execution_count": 273,
   "metadata": {},
   "outputs": [],
   "source": [
    "# plt.hist(data['Class'], align='left')\n",
    "# plt.title('Histogram of Ticket Class')\n",
    "# plt.show()"
   ]
  },
  {
   "cell_type": "markdown",
   "metadata": {},
   "source": [
    "# Swarm plot of Age vs. Sex, hue of survival\n",
    "\n",
    "Clearly women were more likely to survive. Sex will therefore be a key feature in the model"
   ]
  },
  {
   "cell_type": "code",
   "execution_count": 274,
   "metadata": {},
   "outputs": [],
   "source": [
    "# sns.swarmplot(x='Sex', y='Age', data=data, hue='Survived')\n",
    "# plt.legend(loc='upper center')\n",
    "# plt.title('Swarmplot of Age vs. Sex with a hue of survival')\n",
    "# plt.show()"
   ]
  },
  {
   "cell_type": "markdown",
   "metadata": {},
   "source": [
    "# Swarm plot of Age vs Survived.\n",
    "\n",
    "Shows that children were more likely to survive. The elderly were also less likely to survive."
   ]
  },
  {
   "cell_type": "code",
   "execution_count": 275,
   "metadata": {},
   "outputs": [],
   "source": [
    "# sns.swarmplot(x = 'Age', y='Survived',data=data, hue='Survived', orient='h')\n",
    "# plt.legend(loc='center right')\n",
    "# plt.title('NaNs replaced with median Age')\n",
    "# plt.show()"
   ]
  },
  {
   "cell_type": "markdown",
   "metadata": {},
   "source": [
    "# Swarm plot of Price Paid vs. Class\n",
    "\n",
    "Shows that the first class were more likely to survive. Did they get priority for lifeboats? Price and class could be quite an important feature.\n",
    "\n",
    "Ideally I want to plot a swarmplot of just Price, with a hue of Survived, but not sure how to do that at the moment."
   ]
  },
  {
   "cell_type": "code",
   "execution_count": 276,
   "metadata": {
    "_uuid": "033a80623c5a3843711d0374dc6ea34b07fc61ac"
   },
   "outputs": [],
   "source": [
    "# sns.swarmplot(x='Class', y='Price', data=data, hue='Survived', orient='v')\n",
    "# plt.show()"
   ]
  },
  {
   "cell_type": "code",
   "execution_count": 277,
   "metadata": {
    "_uuid": "fdb7871358faec10329b9a87d1b20e5b27ebdc30"
   },
   "outputs": [],
   "source": [
    "# plt.figure(figsize=(20,10))\n",
    "# sns.swarmplot(x='EmbarkCity', y='Price', hue='Survived', data=data)\n",
    "# plt.show()"
   ]
  },
  {
   "cell_type": "code",
   "execution_count": 278,
   "metadata": {
    "_uuid": "d0d4d0fe28504af96ba5b863ac5f8e9c5b32aca0"
   },
   "outputs": [],
   "source": [
    "# plt.figure(figsize=(20,10))\n",
    "# sns.swarmplot(x='SibSp', y='Price', hue='Survived', data=data)\n",
    "# plt.show()"
   ]
  },
  {
   "cell_type": "code",
   "execution_count": 279,
   "metadata": {
    "_uuid": "7783fd76d15816587d9bbcf9d04a82dd2a08c403"
   },
   "outputs": [],
   "source": [
    "# sns.pairplot(data)\n",
    "# plt.show()"
   ]
  },
  {
   "cell_type": "code",
   "execution_count": 280,
   "metadata": {
    "_uuid": "1b14f319fa6bef14a7839f1cdf8349df9d825568"
   },
   "outputs": [],
   "source": [
    "# cov_matrix = data.corr()\n",
    "\n",
    "# sns.heatmap(cov_matrix, cmap='Blues')\n",
    "# plt.show()"
   ]
  },
  {
   "cell_type": "markdown",
   "metadata": {
    "_uuid": "31e3e5f5fed6b7551c6c453e970bf3db3653da03"
   },
   "source": [
    "The older females had a greater probablility of survival; however, the inverse is true for males???"
   ]
  },
  {
   "cell_type": "code",
   "execution_count": 281,
   "metadata": {
    "_uuid": "4a9855bb5e1850740363e83129eec5d2f8e9289d"
   },
   "outputs": [],
   "source": [
    "# data['Survived'] = data['Survived'].astype('float32')\n",
    "\n",
    "# sns.lmplot(x='Age', y='Survived', data=data, logistic=True, palette='Set1', hue='Sex')\n",
    "# plt.show()"
   ]
  },
  {
   "cell_type": "markdown",
   "metadata": {
    "_uuid": "4c7a171d7fb3e373debee4f34f84ba85bf69cbda"
   },
   "source": [
    "**Time to do some feature engineering**\n",
    "\n",
    "Some features that may be useful for training:\n",
    "1. Is the passenger a child? i.e. is their age < 18? doesn't have to be 18, this number could change"
   ]
  },
  {
   "cell_type": "code",
   "execution_count": 282,
   "metadata": {},
   "outputs": [
    {
     "name": "stdout",
     "output_type": "stream",
     "text": [
      "['ID', 'Name', 'Sex', 'SibSp', 'ParCh', 'TicketNo', 'CabinNo', 'EmbarkCity']\n",
      "['Age', 'Price']\n"
     ]
    }
   ],
   "source": [
    "print(cat_features)\n",
    "print(cont_features)"
   ]
  },
  {
   "cell_type": "code",
   "execution_count": 283,
   "metadata": {
    "_uuid": "fd2fa2bf928e4a6335a1d096d4d7749f4e2dfd10"
   },
   "outputs": [],
   "source": [
    "age = 18\n",
    "\n",
    "data['IsChild'] = np.where(data['Age'] <= age, '1', '0').astype('int')\n",
    "data_test['IsChild'] = np.where(data_test['Age'] <= age, '1', '0').astype('int')\n",
    "\n",
    "convert_cat_features_drop = ['Sex', 'EmbarkCity']\n",
    "convert_cat_features_no_drop = ['SibSp', 'ParCh', 'TicketNo', 'CabinNo']\n",
    "\n",
    "data_dummies = pd.get_dummies(data, columns = convert_cat_features_drop, drop_first=True)\n",
    "data_test_dummies = pd.get_dummies(data_test, columns = convert_cat_features_drop, drop_first=True)\n",
    "\n",
    "data_dummies = pd.get_dummies(data_dummies, columns = convert_cat_features_no_drop, drop_first=False)\n",
    "data_test_dummies = pd.get_dummies(data_test_dummies, columns = convert_cat_features_no_drop, drop_first=False)"
   ]
  },
  {
   "cell_type": "code",
   "execution_count": 284,
   "metadata": {},
   "outputs": [
    {
     "name": "stdout",
     "output_type": "stream",
     "text": [
      "342\n",
      "0.20.3\n"
     ]
    }
   ],
   "source": [
    "y = data_dummies['Survived']\n",
    "X = data_dummies.drop(labels = ['Survived'], axis=1)"
   ]
  },
  {
   "cell_type": "code",
   "execution_count": 336,
   "metadata": {
    "collapsed": true
   },
   "outputs": [],
   "source": [
    "def  discretise_feature(df, df_test, feature, bins=5, threshold=2):\n",
    "    if len(df.groupby(feature)) > threshold:\n",
    "        new_feature = 'discrete_' + feature\n",
    "        df[new_feature] = pd.qcut(df[feature], bins, duplicates='drop')\n",
    "        df_test[new_feature] = pd.qcut(df[feature], bins, duplicates='drop')\n",
    "        return df, df_test"
   ]
  },
  {
   "cell_type": "code",
   "execution_count": 337,
   "metadata": {},
   "outputs": [],
   "source": [
    "data, data_test = discretise_feature(data, data_test, 'Age', bins=10)"
   ]
  },
  {
   "cell_type": "code",
   "execution_count": 338,
   "metadata": {
    "collapsed": true
   },
   "outputs": [],
   "source": [
    "def get_pig_table(df, feature, response):\n",
    "    discrete_groups = df.groupby(feature)\n",
    "    pig_table = discrete_groups[response].agg({'Incidence': np.mean, 'Size':np.size}).reset_index()\n",
    "    \n",
    "    return pig_table"
   ]
  },
  {
   "cell_type": "code",
   "execution_count": 453,
   "metadata": {},
   "outputs": [],
   "source": [
    "def plot_pig_table(pig_table, feature, figsize, x_margin = 0.5):\n",
    "    \n",
    "    temp_pig_table = pig_table[feature]\n",
    "    \n",
    "    plt.figure(figsize=figsize)\n",
    "    \n",
    "    temp_pig_table['Size'].plot(kind='bar', color='lightgray', rot=0)\n",
    "    plt.xticks(np.arange(len(temp_pig_table)),\n",
    "              temp_pig_table[feature])\n",
    "    plt.xlabel(feature)\n",
    "    plt.ylabel('Frequency')\n",
    "    \n",
    "    temp_pig_table['Incidence'].plot(secondary_y = True, color='orange')\n",
    "    plt.xlim([-x_margin, len(temp_pig_table) - x_margin])\n",
    "    plt.ylim([0, max(temp_pig_table['Incidence'] * 1.1)])\n",
    "    plt.ylabel('Incidence')\n",
    "    \n",
    "    plt.show()   "
   ]
  },
  {
   "cell_type": "code",
   "execution_count": 460,
   "metadata": {},
   "outputs": [
    {
     "name": "stdout",
     "output_type": "stream",
     "text": [
      "['ID', 'Name', 'Sex', 'SibSp', 'ParCh', 'TicketNo', 'CabinNo', 'EmbarkCity']\n",
      "['Age', 'Price']\n"
     ]
    },
    {
     "name": "stderr",
     "output_type": "stream",
     "text": [
      "C:\\Users\\Stephen\\Anaconda3\\lib\\site-packages\\ipykernel_launcher.py:3: FutureWarning: using a dict on a Series for aggregation\n",
      "is deprecated and will be removed in a future version\n",
      "  This is separate from the ipykernel package so we can avoid doing imports until\n"
     ]
    }
   ],
   "source": [
    "print(cat_features)\n",
    "print(cont_features)\n",
    "\n",
    "features = ['discrete_Age', 'Sex', 'SibSp', 'ParCh', 'EmbarkCity']\n",
    "response = 'Survived'\n",
    "\n",
    "pig_tables = {}\n",
    "\n",
    "for feature in features:\n",
    "    pig_tables[feature] = get_pig_table(data, feature, response)"
   ]
  },
  {
   "cell_type": "code",
   "execution_count": 463,
   "metadata": {},
   "outputs": [
    {
     "data": {
      "image/png": "[encoded data removed]",
      "text/plain": [
       "<matplotlib.figure.Figure at 0xd17119eef0>"
      ]
     },
     "metadata": {},
     "output_type": "display_data"
    }
   ],
   "source": [
    "plot_pig_table(pig_tables, 'EmbarkCity', figsize=(20,10))"
   ]
  },
  {
   "cell_type": "markdown",
   "metadata": {},
   "source": [
    "cumulative gains curve\n",
    "lift curve\n"
   ]
  },
  {
   "cell_type": "code",
   "execution_count": 247,
   "metadata": {
    "_uuid": "9fb887d27f554c1659d0a06846e4ad55e22d7838"
   },
   "outputs": [
    {
     "ename": "TypeError",
     "evalue": "drop() got an unexpected keyword argument 'columns'",
     "output_type": "error",
     "traceback": [
      "\u001b[1;31m---------------------------------------------------------------------------\u001b[0m",
      "\u001b[1;31mTypeError\u001b[0m                                 Traceback (most recent call last)",
      "\u001b[1;32m<ipython-input-247-73e6cb110ee1>\u001b[0m in \u001b[0;36m<module>\u001b[1;34m()\u001b[0m\n\u001b[0;32m      1\u001b[0m \u001b[0my\u001b[0m \u001b[1;33m=\u001b[0m \u001b[0mdata_dummies\u001b[0m\u001b[1;33m[\u001b[0m\u001b[1;34m'Survived'\u001b[0m\u001b[1;33m]\u001b[0m\u001b[1;33m\u001b[0m\u001b[0m\n\u001b[1;32m----> 2\u001b[1;33m \u001b[0mX\u001b[0m \u001b[1;33m=\u001b[0m \u001b[0mdata_dummies\u001b[0m\u001b[1;33m.\u001b[0m\u001b[0mdrop\u001b[0m\u001b[1;33m(\u001b[0m\u001b[0mcolumns\u001b[0m \u001b[1;33m=\u001b[0m \u001b[1;33m[\u001b[0m\u001b[1;34m'Survived'\u001b[0m\u001b[1;33m]\u001b[0m\u001b[1;33m,\u001b[0m \u001b[0maxis\u001b[0m\u001b[1;33m=\u001b[0m\u001b[1;36m1\u001b[0m\u001b[1;33m)\u001b[0m\u001b[1;33m\u001b[0m\u001b[0m\n\u001b[0m\u001b[0;32m      3\u001b[0m \u001b[1;33m\u001b[0m\u001b[0m\n\u001b[0;32m      4\u001b[0m steps = [('scaler', StandardScaler()),\n\u001b[0;32m      5\u001b[0m         ('logreg', LogisticRegression())]\n",
      "\u001b[1;31mTypeError\u001b[0m: drop() got an unexpected keyword argument 'columns'"
     ]
    }
   ],
   "source": [
    "\n",
    "\n",
    "steps = [('scaler', StandardScaler()),\n",
    "        ('logreg', LogisticRegression())]\n",
    "\n",
    "pipeline = Pipeline(steps=steps)\n",
    "\n",
    "param_grid = {'logreg__C':np.logspace(-5,8,100),\n",
    "             'logreg__penalty':['l1','l2']}\n",
    "\n",
    "X_train, X_test, y_train, y_test = train_test_split(X, y, test_size=0.3, random_state=88, stratify=y)\n",
    "\n",
    "logreg_cv = GridSearchCV(pipeline, param_grid=param_grid, cv=5)\n",
    "logreg_cv.fit(X_train, y_train)\n",
    "y_pred = logreg_cv.predict(X_test)\n",
    "\n",
    "print(\"Accuracy: {}\".format(logreg_cv.score(X_test, y_test)))\n",
    "print(classification_report(y_test, y_pred))\n",
    "print(\"Tuned Model Parameters: {}\".format(logreg_cv.best_params_))\n",
    "\n",
    "logreg_scaled = pipeline.fit(X_train, y_train)\n",
    "logreg_unscaled = LogisticRegression().fit(X_train, y_train)\n",
    "\n",
    "print(f'Accuracy with Scaling: {logreg_scaled.score(X_test, y_test)}')\n",
    "print(f'Accuracy without Scaling: {logreg_unscaled.score(X_test, y_test)}')\n",
    "\n",
    "# c_space = np.logspace(-5, 8, 15)\n",
    "# param_grid = {'C': c_space, 'penalty':['l1','l2']}\n",
    "\n",
    "# logreg_cv = GridSearchCV(log_regression, param_grid=param_grid, cv=5)\n",
    "\n",
    "# logreg_cv.fit(X, y)\n",
    "\n",
    "# print(\"Tuned Logistic Regression Parameters: {}\".format(logreg_cv.best_params_)) \n",
    "# print(\"Best score is {}\".format(logreg_cv.best_score_))\n",
    "\n",
    "# y_pred_prob = log_regression.predict_proba(X_test)[:,1]\n",
    "\n",
    "# fpr, tpr, thresholds = roc_curve(y_test, y_pred_prob)\n",
    "\n",
    "# print(f'AUC: {roc_auc_score(y_test, y_pred_prob)}')\n",
    "\n",
    "# plt.plot([0, 1], [0, 1], 'k--')\n",
    "# plt.plot(fpr, tpr)\n",
    "# plt.xlabel('False Positive Rate')\n",
    "# plt.ylabel('True Positive Rate')\n",
    "# plt.title('ROC Curve')\n",
    "# plt.show()\n",
    "\n",
    "conf_matrix = confusion_matrix(y_test, y_pred)\n",
    "print(conf_matrix)\n",
    "\n",
    "# scores = classification_report(y_test, y_pred)\n",
    "# print(scores)\n",
    "\n",
    "sns.heatmap(conf_matrix, cmap='Blues')\n",
    "plt.show()"
   ]
  },
  {
   "cell_type": "code",
   "execution_count": 153,
   "metadata": {
    "_uuid": "55e5ad3c33760243551a78ce13c26e2a4fe1d68d"
   },
   "outputs": [
    {
     "name": "stdout",
     "output_type": "stream",
     "text": [
      "Accuracy without Scaling: 0.8059701492537313\n"
     ]
    }
   ],
   "source": [
    "y = data_dummies['Survived']\n",
    "X = data_dummies.drop(columns = ['Survived', 'EmbarkCity_C', 'Sex_male'], axis=1)\n",
    "# X = data_dummies.drop(columns = ['Survived'], axis=1)\n",
    "\n",
    "log_reg = LogisticRegression()\n",
    "\n",
    "param_grid = {'C':np.logspace(-5,8,100),\n",
    "             'penalty':['l1','l2']}\n",
    "\n",
    "X_train, X_test, y_train, y_test = train_test_split(X, y, test_size=0.3, random_state=88, stratify=y)\n",
    "\n",
    "logreg_cv = GridSearchCV(log_reg, param_grid=param_grid, cv=5)\n",
    "logreg_cv.fit(X_train, y_train)\n",
    "y_pred = logreg_cv.predict(X_test)\n",
    "\n",
    "# logreg_unscaled = LogisticRegression().fit(X_train, y_train)\n",
    "\n",
    "print(f'Accuracy without Scaling: {logreg_cv.score(X_test, y_test)}')"
   ]
  },
  {
   "cell_type": "code",
   "execution_count": 159,
   "metadata": {
    "_uuid": "11a8338074a3aa483489bc20579c241ef9db5e18"
   },
   "outputs": [
    {
     "name": "stdout",
     "output_type": "stream",
     "text": [
      "[[146  19]\n",
      " [ 33  70]]\n",
      "             precision    recall  f1-score   support\n",
      "\n",
      "        0.0       0.82      0.88      0.85       165\n",
      "        1.0       0.79      0.68      0.73       103\n",
      "\n",
      "avg / total       0.80      0.81      0.80       268\n",
      "\n"
     ]
    },
    {
     "data": {
      "image/png": "[encoded data removed]",
      "text/plain": [
       "<Figure size 432x288 with 2 Axes>"
      ]
     },
     "metadata": {
      "needs_background": "light"
     },
     "output_type": "display_data"
    }
   ],
   "source": [
    "a = confusion_matrix(y_test, y_pred)\n",
    "print(a)\n",
    "print(classification_report(y_test, y_pred))\n",
    "sns.heatmap(a, cmap='Blues')\n",
    "plt.show()"
   ]
  },
  {
   "cell_type": "code",
   "execution_count": 117,
   "metadata": {
    "_uuid": "5e254c96cc1212845d5c7910b98a0a0f49626e7d"
   },
   "outputs": [
    {
     "name": "stdout",
     "output_type": "stream",
     "text": [
      "Tuned Logistic Regression Parameters: {'C': 0.4393970560760795, 'penalty': 'l1'}\n",
      "Best score is 0.7890011223344556\n"
     ]
    }
   ],
   "source": [
    "# y = data_dummies['Survived'].values\n",
    "# X = data_dummies.drop(columns = ['Survived','Name', 'TicketNo', 'CabinNo'], axis=1).values\n",
    "\n",
    "# log_regression = LogisticRegression()\n",
    "\n",
    "# X_train, X_test, y_train, y_test = train_test_split(X, y, test_size=0.4, random_state=88, stratify=y)\n",
    "\n",
    "# c_space = np.logspace(-5, 8, 15)\n",
    "# param_grid = {'C': c_space, 'penalty':['l1','l2']}\n",
    "\n",
    "# # cv_results = cross_val_score(log_regression, X_train, y_train, cv=5)\n",
    "\n",
    "# # print(cv_results)\n",
    "# # print(np.mean(cv_results))\n",
    "\n",
    "# # log_regression.fit(X_train, y_train)\n",
    "\n",
    "# logreg_cv = GridSearchCV(log_regression, param_grid=param_grid, cv=5)\n",
    "\n",
    "# logreg_cv.fit(X, y)\n",
    "\n",
    "# print(\"Tuned Logistic Regression Parameters: {}\".format(logreg_cv.best_params_)) \n",
    "# print(\"Best score is {}\".format(logreg_cv.best_score_))\n",
    "\n",
    "# # print(data_dummies.drop(columns=['Survived','Name', 'TicketNo', 'CabinNo', 'EmbarkCity_C', 'Sex_male'], axis=1).columns)\n",
    "# # print(log_regression.coef_)\n",
    "# # plt.plot(log_regression.coef_)\n",
    "# # plt.show()\n",
    "\n",
    "# # y_pred = log_regression.predict(X_test)\n",
    "# # y_pred_prob = log_regression.predict_proba(X_test)[:,1]\n",
    "\n",
    "# # fpr, tpr, thresholds = roc_curve(y_test, y_pred_prob)\n",
    "\n",
    "# # print(f'AUC: {roc_auc_score(y_test, y_pred_prob)}')\n",
    "\n",
    "# # plt.plot([0, 1], [0, 1], 'k--')\n",
    "# # plt.plot(fpr, tpr)\n",
    "# # plt.xlabel('False Positive Rate')\n",
    "# # plt.ylabel('True Positive Rate')\n",
    "# # plt.title('ROC Curve')\n",
    "# # plt.show()\n",
    "\n",
    "# # conf_matrix = confusion_matrix(y_test, y_pred)\n",
    "# # print(conf_matrix)\n",
    "\n",
    "# # scores = classification_report(y_test, y_pred)\n",
    "# # print(scores)\n",
    "\n",
    "# # sns.heatmap(conf_matrix, cmap='Blues')\n",
    "# # plt.show()\n",
    "\n",
    "# # print(f'Test set predictions:\\n {y_pred}')\n",
    "\n",
    "# # print(f'Training Accuracy \\t Validation Accuracy \\n {log_regression.score(X_train, y_train)}, {log_regression.score(X_test, y_test)}')"
   ]
  },
  {
   "cell_type": "code",
   "execution_count": 118,
   "metadata": {
    "_uuid": "dc65dfe86c44d419b38d0321effa4bc0460d9819"
   },
   "outputs": [
    {
     "name": "stdout",
     "output_type": "stream",
     "text": [
      "Training Accuracy \t Validation Accuracy \n",
      " 0.799625468164794, 0.8095238095238095\n"
     ]
    }
   ],
   "source": [
    "y = data_dummies['Survived'].values\n",
    "X = data_dummies.drop(columns = ['Survived','Name', 'TicketNo', 'CabinNo'], axis=1).values\n",
    "\n",
    "log_regression = LogisticRegression(C=0.5336699231206312, penalty='l2')\n",
    "\n",
    "X_train, X_test, y_train, y_test = train_test_split(X, y, test_size=0.4, random_state=88, stratify=y)\n",
    "\n",
    "log_regression.fit(X_train, y_train)\n",
    "\n",
    "y_pred = log_regression.predict(X_test)\n",
    "\n",
    "print(f'Training Accuracy \\t Validation Accuracy \\n {log_regression.score(X_train, y_train)}, {log_regression.score(X_test, y_test)}')"
   ]
  },
  {
   "cell_type": "code",
   "execution_count": 162,
   "metadata": {
    "_uuid": "f9a71cf9e59defc200f1a1db73d0ed9aba8c1428"
   },
   "outputs": [
    {
     "ename": "ValueError",
     "evalue": "X has 885 features per sample; expecting 1744",
     "output_type": "error",
     "traceback": [
      "\u001b[0;31m---------------------------------------------------------------------------\u001b[0m",
      "\u001b[0;31mValueError\u001b[0m                                Traceback (most recent call last)",
      "\u001b[0;32m<ipython-input-162-f66cd341ae5a>\u001b[0m in \u001b[0;36m<module>\u001b[0;34m\u001b[0m\n\u001b[0;32m----> 1\u001b[0;31m \u001b[0my_pred\u001b[0m \u001b[0;34m=\u001b[0m \u001b[0mlogreg_cv\u001b[0m\u001b[0;34m.\u001b[0m\u001b[0mpredict\u001b[0m\u001b[0;34m(\u001b[0m\u001b[0mdata_test_dummies\u001b[0m\u001b[0;34m)\u001b[0m\u001b[0;34m.\u001b[0m\u001b[0mastype\u001b[0m\u001b[0;34m(\u001b[0m\u001b[0mint\u001b[0m\u001b[0;34m)\u001b[0m\u001b[0;34m\u001b[0m\u001b[0m\n\u001b[0m\u001b[1;32m      2\u001b[0m \u001b[0;34m\u001b[0m\u001b[0m\n\u001b[1;32m      3\u001b[0m \u001b[0msubmission\u001b[0m \u001b[0;34m=\u001b[0m \u001b[0mpd\u001b[0m\u001b[0;34m.\u001b[0m\u001b[0mDataFrame\u001b[0m\u001b[0;34m(\u001b[0m\u001b[0;34m{\u001b[0m\u001b[0;34m'PassengerId'\u001b[0m\u001b[0;34m:\u001b[0m \u001b[0mdata_test\u001b[0m\u001b[0;34m[\u001b[0m\u001b[0;34m'ID'\u001b[0m\u001b[0;34m]\u001b[0m\u001b[0;34m,\u001b[0m \u001b[0;34m'Survived'\u001b[0m\u001b[0;34m:\u001b[0m\u001b[0my_pred\u001b[0m\u001b[0;34m}\u001b[0m\u001b[0;34m)\u001b[0m\u001b[0;34m\u001b[0m\u001b[0m\n\u001b[1;32m      4\u001b[0m \u001b[0msubmission\u001b[0m\u001b[0;34m.\u001b[0m\u001b[0mto_csv\u001b[0m\u001b[0;34m(\u001b[0m\u001b[0;34m'titanic_pred.csv'\u001b[0m\u001b[0;34m,\u001b[0m \u001b[0mindex\u001b[0m\u001b[0;34m=\u001b[0m\u001b[0;32mFalse\u001b[0m\u001b[0;34m)\u001b[0m\u001b[0;34m\u001b[0m\u001b[0m\n",
      "\u001b[0;32m/opt/conda/lib/python3.6/site-packages/sklearn/utils/metaestimators.py\u001b[0m in \u001b[0;36m<lambda>\u001b[0;34m(*args, **kwargs)\u001b[0m\n\u001b[1;32m    113\u001b[0m \u001b[0;34m\u001b[0m\u001b[0m\n\u001b[1;32m    114\u001b[0m         \u001b[0;31m# lambda, but not partial, allows help() to work with update_wrapper\u001b[0m\u001b[0;34m\u001b[0m\u001b[0;34m\u001b[0m\u001b[0m\n\u001b[0;32m--> 115\u001b[0;31m         \u001b[0mout\u001b[0m \u001b[0;34m=\u001b[0m \u001b[0;32mlambda\u001b[0m \u001b[0;34m*\u001b[0m\u001b[0margs\u001b[0m\u001b[0;34m,\u001b[0m \u001b[0;34m**\u001b[0m\u001b[0mkwargs\u001b[0m\u001b[0;34m:\u001b[0m \u001b[0mself\u001b[0m\u001b[0;34m.\u001b[0m\u001b[0mfn\u001b[0m\u001b[0;34m(\u001b[0m\u001b[0mobj\u001b[0m\u001b[0;34m,\u001b[0m \u001b[0;34m*\u001b[0m\u001b[0margs\u001b[0m\u001b[0;34m,\u001b[0m \u001b[0;34m**\u001b[0m\u001b[0mkwargs\u001b[0m\u001b[0;34m)\u001b[0m\u001b[0;34m\u001b[0m\u001b[0m\n\u001b[0m\u001b[1;32m    116\u001b[0m         \u001b[0;31m# update the docstring of the returned function\u001b[0m\u001b[0;34m\u001b[0m\u001b[0;34m\u001b[0m\u001b[0m\n\u001b[1;32m    117\u001b[0m         \u001b[0mupdate_wrapper\u001b[0m\u001b[0;34m(\u001b[0m\u001b[0mout\u001b[0m\u001b[0;34m,\u001b[0m \u001b[0mself\u001b[0m\u001b[0;34m.\u001b[0m\u001b[0mfn\u001b[0m\u001b[0;34m)\u001b[0m\u001b[0;34m\u001b[0m\u001b[0m\n",
      "\u001b[0;32m/opt/conda/lib/python3.6/site-packages/sklearn/model_selection/_search.py\u001b[0m in \u001b[0;36mpredict\u001b[0;34m(self, X)\u001b[0m\n\u001b[1;32m    465\u001b[0m         \"\"\"\n\u001b[1;32m    466\u001b[0m         \u001b[0mself\u001b[0m\u001b[0;34m.\u001b[0m\u001b[0m_check_is_fitted\u001b[0m\u001b[0;34m(\u001b[0m\u001b[0;34m'predict'\u001b[0m\u001b[0;34m)\u001b[0m\u001b[0;34m\u001b[0m\u001b[0m\n\u001b[0;32m--> 467\u001b[0;31m         \u001b[0;32mreturn\u001b[0m \u001b[0mself\u001b[0m\u001b[0;34m.\u001b[0m\u001b[0mbest_estimator_\u001b[0m\u001b[0;34m.\u001b[0m\u001b[0mpredict\u001b[0m\u001b[0;34m(\u001b[0m\u001b[0mX\u001b[0m\u001b[0;34m)\u001b[0m\u001b[0;34m\u001b[0m\u001b[0m\n\u001b[0m\u001b[1;32m    468\u001b[0m \u001b[0;34m\u001b[0m\u001b[0m\n\u001b[1;32m    469\u001b[0m     \u001b[0;34m@\u001b[0m\u001b[0mif_delegate_has_method\u001b[0m\u001b[0;34m(\u001b[0m\u001b[0mdelegate\u001b[0m\u001b[0;34m=\u001b[0m\u001b[0;34m(\u001b[0m\u001b[0;34m'best_estimator_'\u001b[0m\u001b[0;34m,\u001b[0m \u001b[0;34m'estimator'\u001b[0m\u001b[0;34m)\u001b[0m\u001b[0;34m)\u001b[0m\u001b[0;34m\u001b[0m\u001b[0m\n",
      "\u001b[0;32m/opt/conda/lib/python3.6/site-packages/sklearn/linear_model/base.py\u001b[0m in \u001b[0;36mpredict\u001b[0;34m(self, X)\u001b[0m\n\u001b[1;32m    322\u001b[0m             \u001b[0mPredicted\u001b[0m \u001b[0;32mclass\u001b[0m \u001b[0mlabel\u001b[0m \u001b[0mper\u001b[0m \u001b[0msample\u001b[0m\u001b[0;34m.\u001b[0m\u001b[0;34m\u001b[0m\u001b[0m\n\u001b[1;32m    323\u001b[0m         \"\"\"\n\u001b[0;32m--> 324\u001b[0;31m         \u001b[0mscores\u001b[0m \u001b[0;34m=\u001b[0m \u001b[0mself\u001b[0m\u001b[0;34m.\u001b[0m\u001b[0mdecision_function\u001b[0m\u001b[0;34m(\u001b[0m\u001b[0mX\u001b[0m\u001b[0;34m)\u001b[0m\u001b[0;34m\u001b[0m\u001b[0m\n\u001b[0m\u001b[1;32m    325\u001b[0m         \u001b[0;32mif\u001b[0m \u001b[0mlen\u001b[0m\u001b[0;34m(\u001b[0m\u001b[0mscores\u001b[0m\u001b[0;34m.\u001b[0m\u001b[0mshape\u001b[0m\u001b[0;34m)\u001b[0m \u001b[0;34m==\u001b[0m \u001b[0;36m1\u001b[0m\u001b[0;34m:\u001b[0m\u001b[0;34m\u001b[0m\u001b[0m\n\u001b[1;32m    326\u001b[0m             \u001b[0mindices\u001b[0m \u001b[0;34m=\u001b[0m \u001b[0;34m(\u001b[0m\u001b[0mscores\u001b[0m \u001b[0;34m>\u001b[0m \u001b[0;36m0\u001b[0m\u001b[0;34m)\u001b[0m\u001b[0;34m.\u001b[0m\u001b[0mastype\u001b[0m\u001b[0;34m(\u001b[0m\u001b[0mnp\u001b[0m\u001b[0;34m.\u001b[0m\u001b[0mint\u001b[0m\u001b[0;34m)\u001b[0m\u001b[0;34m\u001b[0m\u001b[0m\n",
      "\u001b[0;32m/opt/conda/lib/python3.6/site-packages/sklearn/linear_model/base.py\u001b[0m in \u001b[0;36mdecision_function\u001b[0;34m(self, X)\u001b[0m\n\u001b[1;32m    303\u001b[0m         \u001b[0;32mif\u001b[0m \u001b[0mX\u001b[0m\u001b[0;34m.\u001b[0m\u001b[0mshape\u001b[0m\u001b[0;34m[\u001b[0m\u001b[0;36m1\u001b[0m\u001b[0;34m]\u001b[0m \u001b[0;34m!=\u001b[0m \u001b[0mn_features\u001b[0m\u001b[0;34m:\u001b[0m\u001b[0;34m\u001b[0m\u001b[0m\n\u001b[1;32m    304\u001b[0m             raise ValueError(\"X has %d features per sample; expecting %d\"\n\u001b[0;32m--> 305\u001b[0;31m                              % (X.shape[1], n_features))\n\u001b[0m\u001b[1;32m    306\u001b[0m \u001b[0;34m\u001b[0m\u001b[0m\n\u001b[1;32m    307\u001b[0m         scores = safe_sparse_dot(X, self.coef_.T,\n",
      "\u001b[0;31mValueError\u001b[0m: X has 885 features per sample; expecting 1744"
     ]
    }
   ],
   "source": [
    "y_pred = logreg_cv.predict(data_test_dummies).astype(int)\n",
    "\n",
    "submission = pd.DataFrame({'PassengerId': data_test['ID'], 'Survived':y_pred})\n",
    "submission.to_csv('titanic_pred.csv', index=False)"
   ]
  },
  {
   "cell_type": "markdown",
   "metadata": {
    "_uuid": "a3bd5c056f2557e96946e22dc43d7f2b68ca9dc8"
   },
   "source": [
    "Why reshape data (-1,1)?\n",
    "Try ElasticNet"
   ]
  },
  {
   "cell_type": "code",
   "execution_count": null,
   "metadata": {
    "_cell_guid": "79c7e3d0-c299-4dcb-8224-4455121ee9b0",
    "_uuid": "d629ff2d2480ee46fbb7e2d37f6b5fab8052498a",
    "collapsed": true
   },
   "outputs": [],
   "source": [
    "\n",
    "\n",
    "# print(data.columns)\n",
    "\n",
    "# plt.plot(x, y, color = 'blue')\n",
    "# plt.xlabel\n",
    "# plt.ylabel\n",
    "# plt.title\n",
    "# plt.show\n",
    "# plt.axes([x_lo, y_lo, width, height])\n",
    "# plt.axis([x_min, x_max, y_min, y_max])\n",
    "# #Units in figure units, between 0 and 1.\n",
    "# ​\n",
    "# plt.subplot(2,1,1)\n",
    "# #Number rows, number columns, which subplot to make active. Order goes from top to bottom, left to right, indexed from 1.\n",
    "# plt.tight_layout()\n",
    "# #Pads spaces between subplots so that there is no overlap\n",
    "# ​\n",
    "# plt.annotate()\n",
    "# plt.style.use()\n",
    "# plt.style.available()\n",
    "# ​\n",
    "# plt.legend()\n",
    "# ​\n",
    "# plt.savefig()\n",
    "# ​\n",
    "# plt.hist()\n",
    "# plt.hist2d()\n",
    "# ​\n",
    "# plt.hexbin()\n",
    "# ​\n",
    "# plt.colorbar()"
   ]
  },
  {
   "cell_type": "code",
   "execution_count": null,
   "metadata": {
    "_uuid": "f5fc267d99e37e6ccc0a393c0215080132c012cd",
    "collapsed": true
   },
   "outputs": [],
   "source": []
  }
 ],
 "metadata": {
  "kernelspec": {
   "display_name": "Python 3",
   "language": "python",
   "name": "python3"
  },
  "language_info": {
   "codemirror_mode": {
    "name": "ipython",
    "version": 3
   },
   "file_extension": ".py",
   "mimetype": "text/x-python",
   "name": "python",
   "nbconvert_exporter": "python",
   "pygments_lexer": "ipython3",
   "version": "3.6.3"
  }
 },
 "nbformat": 4,
 "nbformat_minor": 1
}
