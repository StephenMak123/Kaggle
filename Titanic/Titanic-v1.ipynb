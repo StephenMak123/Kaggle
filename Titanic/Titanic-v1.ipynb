{
  "cells": [
    {
      "metadata": {
        "_uuid": "940e9018f48becd6498f48bf0d8a2201d8e83931"
      },
      "cell_type": "markdown",
      "source": "**Titanic: Machine Learning from Disaster**\n\n**By Stephen Mak**\n\nThe Titanic's maiden voyage was on April 15th, 1912, which killed 1502 out of 2224 (67.5%) of the onboard passengers. The intent of this competition is to determine which passengers were likely to survive using various machine learning tools.\n\nThe exam question is to **predict if a passenger survived the sinking of the Titanic or not**.\n\nThe metric used to evaluate the model will simply be the Rand accuracy. This is simply defined as the sum of True Positives (TP) and True Negatives (TN) divided by the number of examples.\n\nThe most crude model would predict everyone to have not survived, regardless of other features. This crude model would achieve an accuracy of 67.5%, and thus this will be the baseline accuracy."
    },
    {
      "metadata": {
        "_uuid": "97ed78075ec8d36702d373e61e646c32354097b2"
      },
      "cell_type": "markdown",
      "source": "Features available\nThe response variable will be \"Survival\" which is a binary yes/no (1 or 0).\n\nVarious features are available including:\n\n*  **\"PassengerId\"** - Unique passenger ID - Categorical\n    * Ranges from 1 to XXXX\n\n* **\"pclass\"**, - Ticket Class - Categorical (1 = 1st Class, 2 = 2nd Class, 3 = 3rd Class)\n    * This could be an important feature as the number of lifeboats available to each ticket class may have varied.\n\n*  **\"Sex\"** - Gender - (Probably) Binary, Categorical variable containing 2 classes, male or female\n    * This could be an important feature as it is believed that females and children were advised to leave the boat first.\n\n* **\"Age\"** - Passenger's age in years - Categorical / Continuous (can decide later)\n    * Note that if the age has been estimated, it will finish in \"xx.5\". Therefore, there is potential for feature engineering to create an \"estimated age yes/no\" feature. Note also if the age is less than 1 it is fractional.\n\n*  **\"sibsp\"** - Number of siblings/spouses onboard - Categorical\n    * defined as brother/sister/stepbrother/stepsister/husband/wife.\n\n*  **\"parch\"** - Number of parents/children onboard -Categorical\n    * defined as mother/father/daughter/son/stepdaughter/stepson.\n\n*  **\"ticket\"** - Ticket Number - Categorical / Continuous (can decide later)\n    * Has a weird structure. Need to understand\n\n*  **\"fare\"** - Passenger Fare - Continuous\n    * Range from XXXX to XXXX\n\n*  **\"cabin\"** - Cabin Number - Categorical\n    * Need to understand structure\n\n*  **\"embarked\"** - Port of Embarkation - Categorical\n    * C = Cherbourg (France), Q = Queenstown (now Cobh, Ireland), S = Southampton (UK)\n\n"
    },
    {
      "metadata": {
        "_uuid": "7d5603196f7f211a4af00368136efe3fe7d4e9da"
      },
      "cell_type": "markdown",
      "source": "**Interesting sidenotes**\n\n* Titanic only had enough lifeboats for 1178 people due to outdated maritime safety regulations.\n\n* Women and children were evacuated first, therefore, it is suspected that this will be crucial for the model.\n\n* RMS Carpathia arrived 2 hours later to save approximately 705 people."
    },
    {
      "metadata": {
        "trusted": true,
        "_uuid": "82a5c939189825c7b3a68631fe6bbdf58bc388cb"
      },
      "cell_type": "code",
      "source": "import os\nimport pandas as pd\nimport matplotlib.pyplot as plt\nimport numpy as np\nimport seaborn as sns\n\nfrom sklearn.model_selection import train_test_split, cross_val_score\nfrom sklearn.linear_model import LogisticRegression\n\nfrom pathlib import Path\n\nPATH = Path('/kaggle/input/')\nTRAIN = PATH/'train.csv'\nTEST = PATH/'test.csv'\n\npd.options.display.max_columns = 20",
      "execution_count": null,
      "outputs": []
    },
    {
      "metadata": {
        "_uuid": "69407bfa57748b0863e3c45421fa447ce770f9b0"
      },
      "cell_type": "markdown",
      "source": "First, let's read in the data and explore the dataset to better understand the data and what features could be useful for our model."
    },
    {
      "metadata": {
        "trusted": true,
        "_uuid": "69a7fcc16dfbdbc0f16315471a2aec827effc06e"
      },
      "cell_type": "code",
      "source": "columns = ['ID', 'Survived', 'Class', 'Name', 'Sex', 'Age', 'SibSp', 'ParCh', 'TicketNo', 'Price', 'CabinNo', 'EmbarkCity']\ncolumns_test = ['ID', 'Class', 'Name', 'Sex', 'Age', 'SibSp', 'ParCh', 'TicketNo', 'Price', 'CabinNo', 'EmbarkCity']\n\ndata = pd.read_csv(TRAIN, names = columns, header=0)\ndata_test = pd.read_csv(TEST, names = columns_test, header=0)\n\nprint(data_test.head())\n# print(data.columns)\n# print(data.dtypes)\n# print(data.head(5))\n# print(data.describe(include='all'))\n# print(data.count())\n\ncat_features = ['ID', 'Survived', 'Class', 'Name', 'Sex', 'SibSp', 'ParCh', 'TicketNo', 'CabinNo', 'EmbarkCity']\ncont_features = ['Age', 'Price']\n\nfor feature in cat_features:\n    data[feature] = data[feature].astype('category').cat.as_ordered()\n    if feature == 'Survived':\n        continue\n    data_test[feature] = data_test[feature].astype('category').cat.as_ordered()\n    \nfor feature in cont_features:\n    data[feature] = data[feature].fillna(data['Age'].median()).astype('float32')\n    data_test[feature] = data_test[feature].fillna(data['Age'].median()).astype('float32')\n\n# plt.hist(data['Age'], bins=20)\n# plt.show()\n\n# print(data['Age'].describe())\n# print(data.dtypes)\n# print(data.head(5))",
      "execution_count": null,
      "outputs": []
    },
    {
      "metadata": {
        "trusted": true,
        "_uuid": "033a80623c5a3843711d0374dc6ea34b07fc61ac"
      },
      "cell_type": "code",
      "source": "plt.figure(figsize=(20,10))\n\nplt.scatter(data['Age'], data['Price'])\nplt.xlabel('Age (Years)')\nplt.ylabel('Price ($)')\nplt.title('Price paid per ticket vs. Age')\nplt.show()",
      "execution_count": null,
      "outputs": []
    },
    {
      "metadata": {
        "trusted": true,
        "_uuid": "a9aed59db0638fcfe0f8f8b64e6af21cfc4eb100"
      },
      "cell_type": "code",
      "source": "plt.figure(figsize=(20,10))\nsns.lmplot(x='Age', y='Price', data=data, hue='Sex', palette='Set1')\nplt.show()",
      "execution_count": null,
      "outputs": []
    },
    {
      "metadata": {
        "trusted": true,
        "_uuid": "cc9f02341512c3b5f9fdbe1cd885b5e05a994cd5"
      },
      "cell_type": "code",
      "source": "print(cat_features)\nprint(cont_features)",
      "execution_count": null,
      "outputs": []
    },
    {
      "metadata": {
        "trusted": true,
        "_uuid": "45bd7ccd0ed9978bce89079318a38f69fa8a4a4f"
      },
      "cell_type": "code",
      "source": "plt.figure(figsize=(20,10))\nsns.swarmplot(x='Sex', y='Price', hue='Survived', data=data)\nplt.savefig('Price vs. Gender.png')\nplt.show()",
      "execution_count": null,
      "outputs": []
    },
    {
      "metadata": {
        "trusted": true,
        "_uuid": "23892e97930b5e93bff0eac8eeb50e3dc26e2175"
      },
      "cell_type": "code",
      "source": "plt.figure(figsize=(20,10))\nsns.swarmplot(x='Sex', y='Age', hue='Survived', data=data)\nplt.savefig('Age vs. Gender.png')\nplt.show()",
      "execution_count": null,
      "outputs": []
    },
    {
      "metadata": {
        "trusted": true,
        "_uuid": "2705a9bcd1bc89ac0a459b899379972c1c3a755c"
      },
      "cell_type": "code",
      "source": "plt.figure(figsize=(20,10))\nsns.swarmplot(x='Class', y='Age', hue='Survived', data=data)\n# plt.savefig('Age vs. Class.png')\nplt.show()",
      "execution_count": null,
      "outputs": []
    },
    {
      "metadata": {
        "trusted": true,
        "_uuid": "fdb7871358faec10329b9a87d1b20e5b27ebdc30"
      },
      "cell_type": "code",
      "source": "plt.figure(figsize=(20,10))\nsns.swarmplot(x='EmbarkCity', y='Price', hue='Survived', data=data)\n# plt.savefig('Age vs. Class.png')\nplt.show()",
      "execution_count": null,
      "outputs": []
    },
    {
      "metadata": {
        "trusted": true,
        "_uuid": "d0d4d0fe28504af96ba5b863ac5f8e9c5b32aca0"
      },
      "cell_type": "code",
      "source": "plt.figure(figsize=(20,10))\nsns.swarmplot(x='SibSp', y='Price', hue='Survived', data=data)\n# plt.savefig('Age vs. Class.png')\nplt.show()",
      "execution_count": null,
      "outputs": []
    },
    {
      "metadata": {
        "trusted": true,
        "_uuid": "7783fd76d15816587d9bbcf9d04a82dd2a08c403"
      },
      "cell_type": "code",
      "source": "plt.figure(figsize=(20,10))\n\nsns.pairplot(data)\nplt.show()",
      "execution_count": null,
      "outputs": []
    },
    {
      "metadata": {
        "trusted": true,
        "_uuid": "1b14f319fa6bef14a7839f1cdf8349df9d825568"
      },
      "cell_type": "code",
      "source": "# cov_matrix = data.corr()\n\n# sns.heatmap(cov_matrix)\n# plt.show()",
      "execution_count": null,
      "outputs": []
    },
    {
      "metadata": {
        "_uuid": "4c7a171d7fb3e373debee4f34f84ba85bf69cbda"
      },
      "cell_type": "markdown",
      "source": "**Time to do some feature engineering**\n\nSome features that may be useful for training:\n1. Is the passenger a child? i.e. is their age < 18? doesn't have to be 18, this number could change"
    },
    {
      "metadata": {
        "trusted": true,
        "_uuid": "4a9855bb5e1850740363e83129eec5d2f8e9289d"
      },
      "cell_type": "code",
      "source": "data['Survived'] = data['Survived'].astype('float32')\n\nsns.lmplot(x='Age', y='Survived', data=data, logistic=True, palette='Set1', hue='Sex')\nplt.show()",
      "execution_count": null,
      "outputs": []
    },
    {
      "metadata": {
        "_uuid": "31e3e5f5fed6b7551c6c453e970bf3db3653da03"
      },
      "cell_type": "markdown",
      "source": "The older females had a greater probablility of survival; however, the inverse is true for males???"
    },
    {
      "metadata": {
        "trusted": true,
        "_uuid": "fd2fa2bf928e4a6335a1d096d4d7749f4e2dfd10"
      },
      "cell_type": "code",
      "source": "age = 18\n\ndata['IsChild'] = np.where(data['Age'] <= age, '1', '0')\ndata_test['IsChild'] = np.where(data_test['Age'] <= age, '1', '0')\n\n\ndata_dummies = pd.get_dummies(data, columns = ['EmbarkCity', 'Sex'])\ndata_test_dummies = pd.get_dummies(data_test, columns = ['EmbarkCity', 'Sex'])\n\nprint(data_dummies.columns)",
      "execution_count": null,
      "outputs": []
    },
    {
      "metadata": {
        "trusted": true,
        "_uuid": "5e254c96cc1212845d5c7910b98a0a0f49626e7d"
      },
      "cell_type": "code",
      "source": "y = data_dummies['Survived'].values\nX = data_dummies.drop(columns = ['Survived','Name', 'TicketNo', 'CabinNo', 'EmbarkCity_C', 'Sex_male'], axis=1).values\n\nX_train, X_test, y_train, y_test = train_test_split(X, y, test_size=0.3, random_state=88, stratify=y)\n\nlog_regression = LogisticRegression()\n\ncv_results = cross_val_score(log_regression, X_train, y_train, cv=5)\n\nprint(cv_results)\nprint(np.mean(cv_results))\n\nlog_regression.fit(X_train, y_train)\n\nprint(data_dummies.drop(columns=['Survived','Name', 'TicketNo', 'CabinNo', 'EmbarkCity_C', 'Sex_male'], axis=1).columns)\nprint(log_regression.coef_)\nplt.plot(log_regression.coef_)\nplt.show()\n\ny_pred_train = log_regression.predict(X_train)\ny_pred_val = log_regression.predict(X_test)\n\n# print(f'Test set predictions:\\n {y_pred}')\n\nprint(f'Training Accuracy \\t Validation Accuracy \\n {log_regression.score(X_train, y_train)}, {log_regression.score(X_test, y_test)}')",
      "execution_count": 83,
      "outputs": [
        {
          "output_type": "stream",
          "text": "[0.752      0.832      0.84       0.824      0.76422764]\n0.8024455284552845\nIndex(['ID', 'Class', 'Age', 'SibSp', 'ParCh', 'Price', 'IsChild',\n       'EmbarkCity_Q', 'EmbarkCity_S', 'Sex_female'],\n      dtype='object')\n[[ 1.40295702e-04 -9.07869347e-01 -2.21878600e-02 -3.79404668e-01\n  -1.25851453e-01  3.19968667e-03  5.09763125e-01 -2.58196555e-01\n  -4.22039118e-01  2.53151320e+00]]\n",
          "name": "stdout"
        },
        {
          "output_type": "display_data",
          "data": {
            "text/plain": "<Figure size 432x288 with 1 Axes>",
            "image/png": "[encoded data removed]"
          },
          "metadata": {
            "needs_background": "light"
          }
        },
        {
          "output_type": "stream",
          "text": "Training Accuracy \t Validation Accuracy \n 0.812199036918138, 0.8022388059701493\n",
          "name": "stdout"
        }
      ]
    },
    {
      "metadata": {
        "trusted": true,
        "_uuid": "f9a71cf9e59defc200f1a1db73d0ed9aba8c1428"
      },
      "cell_type": "code",
      "source": "y_pred = log_regression.predict(data_test_dummies.drop(columns=['Name', 'TicketNo', 'CabinNo'], axis=1)).astype(int)\n\nsubmission = pd.DataFrame({'PassengerId': data_test['ID'], 'Survived':y_pred})\nsubmission.to_csv('titanic_pred.csv', index=False)",
      "execution_count": null,
      "outputs": []
    },
    {
      "metadata": {
        "_uuid": "a3bd5c056f2557e96946e22dc43d7f2b68ca9dc8"
      },
      "cell_type": "markdown",
      "source": "Why reshape data (-1,1)?"
    },
    {
      "metadata": {
        "_cell_guid": "79c7e3d0-c299-4dcb-8224-4455121ee9b0",
        "_uuid": "d629ff2d2480ee46fbb7e2d37f6b5fab8052498a",
        "trusted": true
      },
      "cell_type": "code",
      "source": "\n\n# print(data.columns)\n\n# plt.plot(x, y, color = 'blue')\n# plt.xlabel\n# plt.ylabel\n# plt.title\n# plt.show\n# plt.axes([x_lo, y_lo, width, height])\n# plt.axis([x_min, x_max, y_min, y_max])\n# #Units in figure units, between 0 and 1.\n# ​\n# plt.subplot(2,1,1)\n# #Number rows, number columns, which subplot to make active. Order goes from top to bottom, left to right, indexed from 1.\n# plt.tight_layout()\n# #Pads spaces between subplots so that there is no overlap\n# ​\n# plt.annotate()\n# plt.style.use()\n# plt.style.available()\n# ​\n# plt.legend()\n# ​\n# plt.savefig()\n# ​\n# plt.hist()\n# plt.hist2d()\n# ​\n# plt.hexbin()\n# ​\n# plt.colorbar()",
      "execution_count": null,
      "outputs": []
    },
    {
      "metadata": {
        "trusted": true,
        "_uuid": "f5fc267d99e37e6ccc0a393c0215080132c012cd"
      },
      "cell_type": "code",
      "source": "",
      "execution_count": null,
      "outputs": []
    }
  ],
  "metadata": {
    "kernelspec": {
      "display_name": "Python 3",
      "language": "python",
      "name": "python3"
    },
    "language_info": {
      "name": "python",
      "version": "3.6.6",
      "mimetype": "text/x-python",
      "codemirror_mode": {
        "name": "ipython",
        "version": 3
      },
      "pygments_lexer": "ipython3",
      "nbconvert_exporter": "python",
      "file_extension": ".py"
    }
  },
  "nbformat": 4,
  "nbformat_minor": 1
}