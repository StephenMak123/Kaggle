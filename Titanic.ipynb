{
 "cells": [
  {
   "cell_type": "markdown",
   "metadata": {},
   "source": [
    "# Titanic: Machine Learning from Disaster\n",
    "##### By Stephen Mak"
   ]
  },
  {
   "cell_type": "markdown",
   "metadata": {},
   "source": [
    "The Titanic's maiden voyage was on April 15th, 1912, which killed 1502 out of 2224 (67.5%) of the onboard passengers. The intent of this competition is to determine which passengers were likely to survive using various machine learning tools.\n",
    "\n",
    "The exam question is to predict if a passenger survived the sinking of the Titanic or not. \n",
    "\n",
    "The metric used to evaluate the model will simply be the Rand accuracy. This is simply defined as the sum of True Positives (TP) and True Negatives (TN) divided by the number of examples.\n",
    "\n"
   ]
  },
  {
   "cell_type": "markdown",
   "metadata": {},
   "source": [
    "## Features available"
   ]
  },
  {
   "cell_type": "markdown",
   "metadata": {},
   "source": [
    "The response variable will be \"Survival\" which is a binary yes/no (1 or 0).\n",
    "\n",
    "Various features are available including:\n",
    "\n",
    "\"PassengerId\" - Unique passenger ID.\n",
    "\n",
    "\"pclass\", or Ticket Class, a categorical variable where 1 = 1st Class, 2 = 2nd Class, 3 = 3rd Class.\n",
    "This could be an important feature as the number of lifeboats available to each ticket class may have varied.\n",
    "\n",
    "\"Sex\" (could) be a binary variable, assuming one denotes male, and another female.\n",
    "This could be an important feature as it is believed that females and children were advised to leave the boat first.\n",
    "\n",
    "\"Age\" is the passenger's age in years. Note that if the age has been estimated, it will finish in \"xx.5\". Therefore, there is potential for feature engineering to create an \"estimated age yes/no\" feature. Note also if the age is less than 1 it is fractional.\n",
    "\n",
    "\"sibsp\" - Number of siblings/spouses onboard - defined as brother/sister/stepbrother/stepsister/husband/wife.\n",
    "\n",
    "\"parch\" - Number of parents/children onboard - defined as mother/father/daughter/son/stepdaughter/stepson.\n",
    "\n",
    "\"ticket\" - Ticket Number\n",
    "\n",
    "\"fare\" - Passenger Fare\n",
    "\n",
    "\"cabin\" - Cabin Number\n",
    "\n",
    "\"embarked\" - Port of Embarkation - C = Cherbourg (France), Q = Queenstown (now Cobh, Ireland), S = Southampton (UK)"
   ]
  },
  {
   "cell_type": "markdown",
   "metadata": {},
   "source": [
    "# Interesting sidenotes"
   ]
  },
  {
   "cell_type": "markdown",
   "metadata": {},
   "source": [
    "Titanic only had enough lifeboats for 1178 people due to outdated maritime safety regulations.\n",
    "\n",
    "Women and children were evacuated first, therefore, it is suspected that this will be crucial for the model.\n",
    "\n",
    "RMS Carpathia arrived 2 hours later to save approximately 705 people."
   ]
  },
  {
   "cell_type": "code",
   "execution_count": 1,
   "metadata": {
    "collapsed": true
   },
   "outputs": [],
   "source": [
    "import os\n",
    "import pandas as pd\n",
    "import matplotlib.pyplot as plt\n",
    "import numpy as np\n",
    "\n",
    "from pathlib import Path"
   ]
  },
  {
   "cell_type": "code",
   "execution_count": 2,
   "metadata": {},
   "outputs": [
    {
     "name": "stdout",
     "output_type": "stream",
     "text": [
      "C:\\Users\\Stephen\\Desktop\\Documents\\A Learning Journey\\Kaggle\n"
     ]
    }
   ],
   "source": [
    "print(os.getcwd())"
   ]
  },
  {
   "cell_type": "code",
   "execution_count": 3,
   "metadata": {},
   "outputs": [],
   "source": [
    "PATH = Path('C:/Users/Stephen/Desktop/Documents/A Learning Journey/Kaggle/Titanic/')\n",
    "\n",
    "TRAIN = PATH/'train/train.csv'\n",
    "TEST = PATH/'test/test.csv'"
   ]
  },
  {
   "cell_type": "markdown",
   "metadata": {},
   "source": [
    "First, let's read in the data and explore the dataset to better understand the data and what features could be useful for our model."
   ]
  },
  {
   "cell_type": "code",
   "execution_count": 5,
   "metadata": {
    "scrolled": true
   },
   "outputs": [
    {
     "name": "stdout",
     "output_type": "stream",
     "text": [
      "Index(['ID', 'Survived', 'Class', 'Name', 'Sex', 'Age', 'SibSp', 'ParCh',\n",
      "       'TicketNo', 'Price', 'CabinNo', 'EmbarkCity'],\n",
      "      dtype='object')\n",
      "ID            object\n",
      "Survived      object\n",
      "Class         object\n",
      "Name          object\n",
      "Sex           object\n",
      "Age           object\n",
      "SibSp         object\n",
      "ParCh         object\n",
      "TicketNo      object\n",
      "Price         object\n",
      "CabinNo       object\n",
      "EmbarkCity    object\n",
      "dtype: object\n",
      "0    Embarked\n",
      "1           S\n",
      "2           C\n",
      "3           S\n",
      "4           S\n",
      "5           S\n",
      "Name: EmbarkCity, dtype: object\n"
     ]
    }
   ],
   "source": [
    "columns = ['ID', 'Survived', 'Class', 'Name', 'Sex', 'Age', 'SibSp', 'ParCh', 'TicketNo', 'Price', 'CabinNo', 'EmbarkCity']\n",
    "\n",
    "data = pd.read_csv(TRAIN, names = columns)\n",
    "\n",
    "print(data.columns)\n",
    "print(data.dtypes)\n",
    "print(data.iloc[:6, 11])"
   ]
  },
  {
   "cell_type": "markdown",
   "metadata": {},
   "source": [
    "Through printing the first 5 rows, the data is ordered by Passenger ID. Therefore, for the model it is important to randomly shuffle the rows so that PassengerId doesn't become a predictive feature as it wouldn't make too much sense.\n",
    "\n",
    "The 'TicketNo' column seems to have a weird structure. I need to better understand what this means - possibly extract more features from it? Likewise for 'CabinNo'"
   ]
  },
  {
   "cell_type": "code",
   "execution_count": 7,
   "metadata": {},
   "outputs": [
    {
     "ename": "NameError",
     "evalue": "name 'x_lo' is not defined",
     "output_type": "error",
     "traceback": [
      "\u001b[1;31m---------------------------------------------------------------------------\u001b[0m",
      "\u001b[1;31mNameError\u001b[0m                                 Traceback (most recent call last)",
      "\u001b[1;32m<ipython-input-7-df367956bc88>\u001b[0m in \u001b[0;36m<module>\u001b[1;34m()\u001b[0m\n\u001b[0;32m      4\u001b[0m \u001b[0mplt\u001b[0m\u001b[1;33m.\u001b[0m\u001b[0mtitle\u001b[0m\u001b[1;33m\u001b[0m\u001b[0m\n\u001b[0;32m      5\u001b[0m \u001b[0mplt\u001b[0m\u001b[1;33m.\u001b[0m\u001b[0mshow\u001b[0m\u001b[1;33m\u001b[0m\u001b[0m\n\u001b[1;32m----> 6\u001b[1;33m \u001b[0mplt\u001b[0m\u001b[1;33m.\u001b[0m\u001b[0maxes\u001b[0m\u001b[1;33m(\u001b[0m\u001b[1;33m[\u001b[0m\u001b[0mx_lo\u001b[0m\u001b[1;33m,\u001b[0m \u001b[0my_lo\u001b[0m\u001b[1;33m,\u001b[0m \u001b[0mwidth\u001b[0m\u001b[1;33m,\u001b[0m \u001b[0mheight\u001b[0m\u001b[1;33m]\u001b[0m\u001b[1;33m)\u001b[0m\u001b[1;33m\u001b[0m\u001b[0m\n\u001b[0m\u001b[0;32m      7\u001b[0m \u001b[1;31m#Units in figure units, between 0 and 1.\u001b[0m\u001b[1;33m\u001b[0m\u001b[1;33m\u001b[0m\u001b[0m\n\u001b[0;32m      8\u001b[0m \u001b[1;33m\u001b[0m\u001b[0m\n",
      "\u001b[1;31mNameError\u001b[0m: name 'x_lo' is not defined"
     ]
    }
   ],
   "source": [
    "plt.plot(x, y, color = 'blue')\n",
    "plt.xlabel\n",
    "plt.ylabel\n",
    "plt.title\n",
    "plt.show\n",
    "plt.axes([x_lo, y_lo, width, height])\n",
    "plt.axis([x_min, x_max, y_min, y_max])\n",
    "#Units in figure units, between 0 and 1.\n",
    "\n",
    "plt.subplot(2,1,1)\n",
    "#Number rows, number columns, which subplot to make active. Order goes from top to bottom, left to right, indexed from 1.\n",
    "plt.tight_layout()\n",
    "#Pads spaces between subplots so that there is no overlap\n",
    "\n",
    "plt.annotate()\n",
    "plt.style.use()\n",
    "plt.style.available()\n",
    "\n",
    "plt.legend()\n",
    "\n",
    "plt.savefig()\n",
    "\n",
    "plt.hist()\n",
    "plt.hist2d()\n",
    "\n",
    "plt.hexbin()\n",
    "\n",
    "plt.colorbar()\n"
   ]
  },
  {
   "cell_type": "code",
   "execution_count": null,
   "metadata": {
    "collapsed": true
   },
   "outputs": [],
   "source": []
  },
  {
   "cell_type": "code",
   "execution_count": null,
   "metadata": {
    "collapsed": true
   },
   "outputs": [],
   "source": []
  }
 ],
 "metadata": {
  "kernelspec": {
   "display_name": "Python 3",
   "language": "python",
   "name": "python3"
  },
  "language_info": {
   "codemirror_mode": {
    "name": "ipython",
    "version": 3
   },
   "file_extension": ".py",
   "mimetype": "text/x-python",
   "name": "python",
   "nbconvert_exporter": "python",
   "pygments_lexer": "ipython3",
   "version": "3.6.3"
  }
 },
 "nbformat": 4,
 "nbformat_minor": 2
}
